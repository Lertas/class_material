{
 "cells": [
  {
   "cell_type": "markdown",
   "metadata": {},
   "source": [
    "# Descriptive Statistics"
   ]
  },
  {
   "cell_type": "markdown",
   "metadata": {},
   "source": [
    "## Pima Indians Dataset\n",
    "This dataset describes the medical records for Pima Indians\n",
    "and whether or not each patient will have an onset of diabetes within five years.\n",
    "\n",
    "We are going to use the pandas library for loading the data (which is in CSV)."
   ]
  },
  {
   "cell_type": "code",
   "execution_count": null,
   "metadata": {
    "collapsed": true
   },
   "outputs": [],
   "source": [
    "import pandas as pd"
   ]
  },
  {
   "cell_type": "markdown",
   "metadata": {},
   "source": [
    "We are going to use the describe() function on the Pandas DataFrame"
   ]
  },
  {
   "cell_type": "code",
   "execution_count": null,
   "metadata": {
    "collapsed": true,
    "scrolled": true
   },
   "outputs": [],
   "source": [
    "# View first 20 rows\n",
    "filename = \"../data/pima-indians-diabetes.data.csv\"\n",
    "names = ['preg', 'plas', 'pres', 'skin', 'test', 'mass', 'pedi', 'age', 'class']\n",
    "# df stands for \"Data Frame\"\n",
    "df = pd.read_csv(filename, names=names)\n",
    "pd.set_option('precision', 3)\n",
    "df.describe()"
   ]
  },
  {
   "cell_type": "markdown",
   "metadata": {},
   "source": [
    "### describe() returns 8 statistical properties for each attribute\n",
    "* Count: how many values the attribute has\n",
    "* Mean: the mean of all values of the attribute \n",
    "* Standard Deviation: the amount of variation values have. Low $\\sigma$ means values are closer to the mean\n",
    "* Minimum value\n",
    "* 25<sup>th</sup> Percentile: the value under which 25% of the instances can be found\n",
    "* 50<sup>th</sup> Percentile: the value under which 50% of the instances can be found (also called the median, is the value that splits the distribution in half)\n",
    "* 75<sup>th</sup> Percentile: the value under which 75% of the instances can be found\n",
    "* Maximum value"
   ]
  },
  {
   "cell_type": "markdown",
   "metadata": {},
   "source": [
    "### Class Distribution\n",
    "Summarise distribution of instances across classes\n",
    "\n",
    "On classification problems you need to know how balanced the class values are. Highly imbalanced\n",
    "problems (a lot more observations for one class than another) are common and may need special\n",
    "handling in the data preparation stage of your project."
   ]
  },
  {
   "cell_type": "code",
   "execution_count": null,
   "metadata": {
    "collapsed": true
   },
   "outputs": [],
   "source": [
    "df.groupby('class').size()"
   ]
  },
  {
   "cell_type": "markdown",
   "metadata": {},
   "source": [
    "### Correlation between attributes\n",
    "Correlation refers to the relationship between two variables and how they may or may not change together.\n",
    "A correlation of -1 or 1 shows a full negative or positive correlation respectively. Whereas a value of 0 shows no correlation at all.\n",
    "\n",
    "![correlation](https://wikimedia.org/api/rest_v1/media/math/render/svg/bd1ccc2979b0fd1c1aec96e386f686ae874f9ec0)\n"
   ]
  },
  {
   "cell_type": "code",
   "execution_count": null,
   "metadata": {
    "collapsed": true
   },
   "outputs": [],
   "source": [
    "df.corr(method='pearson')"
   ]
  },
  {
   "cell_type": "markdown",
   "metadata": {},
   "source": [
    "### Skew of Univariate Distributions"
   ]
  },
  {
   "cell_type": "code",
   "execution_count": null,
   "metadata": {
    "collapsed": true
   },
   "outputs": [],
   "source": [
    "df.skew()"
   ]
  },
  {
   "cell_type": "markdown",
   "metadata": {},
   "source": [
    "## Wine Quality Dataset\n",
    "This dataset contains instances for red and white wine samples.\n",
    "The inputs include objective tests (e.g. PH values) and the output is based on sensory data\n",
    "(median of at least 3 evaluations made by wine experts). Each expert graded the wine quality \n",
    "between 0 (very bad) and 10 (very excellent).\n",
    "\n",
    "The two datasets are related to red and white variants of the Portuguese \"Vinho Verde\" wine.\n",
    "For more details, consult: http://www.vinhoverde.pt/en/ or the reference [Cortez et al., 2009].\n",
    "Due to privacy and logistic issues, only physicochemical (inputs) and sensory (the output) variables \n",
    "are available (e.g. there is no data about grape types, wine brand, wine selling price, etc.)."
   ]
  },
  {
   "cell_type": "markdown",
   "metadata": {},
   "source": [
    "We are going to use the describe() function on the Pandas DataFrame"
   ]
  },
  {
   "cell_type": "code",
   "execution_count": null,
   "metadata": {
    "collapsed": true
   },
   "outputs": [],
   "source": [
    "df = pd.read_csv('../data/winequality-red.csv', sep=';')\n",
    "df.describe()"
   ]
  },
  {
   "cell_type": "markdown",
   "metadata": {},
   "source": [
    "### describe() returns 8 statistical properties for each attribute\n",
    "* Count: how many values the attribute has\n",
    "* Mean: the mean of all values of the attribute \n",
    "* Standard Deviation: the amount of variation values have. Low $\\sigma$ means values are closer to the mean\n",
    "* Minimum value\n",
    "* 25<sup>th</sup> Percentile: the value under which 25% of the instances can be found\n",
    "* 50<sup>th</sup> Percentile: the value under which 50% of the instances can be found (also called the median, is the value that splits the distribution in half)\n",
    "* 75<sup>th</sup> Percentile: the value under which 75% of the instances can be found\n",
    "* Maximum value"
   ]
  },
  {
   "cell_type": "markdown",
   "metadata": {},
   "source": [
    "### Class Distribution\n",
    "Summarise distribution of instances across classes\n",
    "\n",
    "On classification problems you need to know how balanced the class values are. Highly imbalanced\n",
    "problems (a lot more observations for one class than another) are common and may need special\n",
    "handling in the data preparation stage of your project."
   ]
  },
  {
   "cell_type": "code",
   "execution_count": null,
   "metadata": {
    "collapsed": true
   },
   "outputs": [],
   "source": [
    "df.groupby('quality').size()"
   ]
  },
  {
   "cell_type": "markdown",
   "metadata": {},
   "source": [
    "### Correlation between attributes\n",
    "Correlation refers to the relationship between two variables and how they may or may not change together.\n",
    "A correlation of -1 or 1 shows a full negative or positive correlation respectively. Whereas a value of 0 shows no correlation at all.\n",
    "\n",
    "![correlation](https://wikimedia.org/api/rest_v1/media/math/render/svg/bd1ccc2979b0fd1c1aec96e386f686ae874f9ec0)"
   ]
  },
  {
   "cell_type": "code",
   "execution_count": null,
   "metadata": {
    "collapsed": true
   },
   "outputs": [],
   "source": [
    "df.corr(method='pearson')"
   ]
  },
  {
   "cell_type": "markdown",
   "metadata": {},
   "source": [
    "### Skew of Univariate Distributions"
   ]
  },
  {
   "cell_type": "code",
   "execution_count": null,
   "metadata": {
    "collapsed": true
   },
   "outputs": [],
   "source": [
    "df.skew()"
   ]
  }
 ],
 "metadata": {
  "kernelspec": {
   "display_name": "Python 3",
   "language": "python",
   "name": "python3"
  },
  "language_info": {
   "codemirror_mode": {
    "name": "ipython",
    "version": 3
   },
   "file_extension": ".py",
   "mimetype": "text/x-python",
   "name": "python",
   "nbconvert_exporter": "python",
   "pygments_lexer": "ipython3",
   "version": "3.5.4"
  }
 },
 "nbformat": 4,
 "nbformat_minor": 2
}
